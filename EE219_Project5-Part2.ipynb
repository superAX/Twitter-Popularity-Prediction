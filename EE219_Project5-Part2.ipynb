{
 "cells": [
  {
   "cell_type": "markdown",
   "metadata": {},
   "source": [
    "# Part 2: Fan Base Prediction\n",
    "\n",
    "## Load dataset"
   ]
  },
  {
   "cell_type": "code",
   "execution_count": 1,
   "metadata": {},
   "outputs": [],
   "source": [
    "import json\n",
    "\n",
    "file_name = 'tweets_#superbowl.txt'\n",
    "\n",
    "\n",
    "locations_MA = ['MA', ' MA', 'Massachusetts', 'Boston', 'Cambridge', 'Worcester', 'Marlborough',\n",
    "               'Salem', 'Beverly', 'Yarmouth', 'Watertown', 'New Bedford', 'Waltham', 'Natick',\n",
    "               'Cape Cod', 'Lowell', 'Quincy', 'Brookline', 'Somerville','Springfield', 'amherst',\n",
    "               'framingham']\n",
    "locations_WA = ['WA', ' WA', 'Seattle', 'Washington', 'Kirkland', 'Perth', 'Woodinville', 'Spokane', 'Pullman',\n",
    "               'Renton', 'Everett','Puyallup', 'Olympia', 'Redmond', 'Bellevue', 'Bellingham',\n",
    "               'Vancouver', 'Tacoma', 'Spokane', 'auburn', 'kennewick', 'kent', 'yakima']\n",
    "\n"
   ]
  },
  {
   "cell_type": "code",
   "execution_count": 2,
   "metadata": {},
   "outputs": [],
   "source": [
    "texts = []\n",
    "locations = []        #0 for MA and 1 for WA\n",
    "\n",
    "def from_MA(loc):\n",
    "    for x in locations_MA:\n",
    "        if(x in loc):\n",
    "            return True\n",
    "    return False\n",
    "\n",
    "def from_WA(loc):\n",
    "    for x in locations_WA:\n",
    "        if(x in loc):\n",
    "            return True\n",
    "    return False\n",
    "\n",
    "locs_MA = []\n",
    "locs_WA = []\n",
    "\n",
    "filestream = open(file_name, 'r', encoding = 'utf-8')\n",
    "for line in filestream:\n",
    "    tweet = json.loads(line)\n",
    "    text = tweet['tweet']['text']\n",
    "\n",
    "    loc = tweet['tweet']['user']['location']\n",
    "    \n",
    "    if from_MA(loc):\n",
    "        texts.append(text)\n",
    "        locations.append(0)\n",
    "        locs_MA.append(0)\n",
    "        \n",
    "    elif from_WA(loc):\n",
    "        texts.append(text)\n",
    "        locations.append(1)\n",
    "        locs_WA.append(0)\n",
    "        \n",
    "filestream.close()"
   ]
  },
  {
   "cell_type": "code",
   "execution_count": 3,
   "metadata": {},
   "outputs": [
    {
     "name": "stdout",
     "output_type": "stream",
     "text": [
      "55355\n"
     ]
    }
   ],
   "source": [
    "print(len(texts))\n",
    "#print(len(locs_MA))\n",
    "#print(len(locs_WA))"
   ]
  },
  {
   "cell_type": "markdown",
   "metadata": {},
   "source": [
    "## Process Data"
   ]
  },
  {
   "cell_type": "code",
   "execution_count": 18,
   "metadata": {},
   "outputs": [],
   "source": [
    "import nltk\n",
    "from nltk.tag import pos_tag\n",
    "from nltk.stem import WordNetLemmatizer\n",
    "from nltk.corpus import stopwords\n",
    "from nltk.tokenize import word_tokenize\n",
    "from nltk.stem.snowball import SnowballStemmer\n",
    "import string\n",
    "from string import punctuation\n",
    "from sklearn.feature_extraction import text\n",
    "from sklearn.feature_extraction.text import TfidfTransformer, CountVectorizer\n",
    "from sklearn.decomposition import TruncatedSVD, NMF\n",
    "from sklearn.pipeline import Pipeline\n",
    "from sklearn.pipeline import make_pipeline\n",
    "from sklearn.svm import LinearSVC, SVC\n",
    "from sklearn.linear_model import LogisticRegression\n",
    "from sklearn.model_selection import train_test_split, cross_val_score, ShuffleSplit, KFold\n",
    "from sklearn.naive_bayes import MultinomialNB, GaussianNB\n",
    "from sklearn.metrics import auc, confusion_matrix, recall_score, roc_curve, precision_score, accuracy_score\n",
    "from sklearn.preprocessing import normalize, Normalizer\n",
    "import itertools\n",
    "import numpy as np\n",
    "import re\n",
    "from matplotlib import pyplot as plt\n"
   ]
  },
  {
   "cell_type": "code",
   "execution_count": 5,
   "metadata": {},
   "outputs": [],
   "source": [
    "stop_words = text.ENGLISH_STOP_WORDS\n",
    "#stop_words_skt = text.ENGLISH_STOP_WORDS\n",
    "#stop_words_en = stopwords.words('english')\n",
    "#stop_words = set.union(set(stop_words_en),set(punctuation),set(stop_words_skt))\n",
    "\n",
    "def stem_tokenizer(text):\n",
    "    stemmer = SnowballStemmer(\"english\")\n",
    "    text = re.sub('[^a-zA-Z]',' ',text)\n",
    "    text = text.lower()\n",
    "    words = text.split()\n",
    "    stemmed = [stemmer.stem(item) for item in words]\n",
    "    words_new = []\n",
    "    for word in stemmed:\n",
    "        if re.search('[a-z]{2,}',word):\n",
    "            words_new.append(word)\n",
    "    return words_new\n",
    "\n",
    "def produce_pipeline(MIN_DF, CLF):\n",
    "    pipe = Pipeline([('vect', CountVectorizer(analyzer = 'word', tokenizer = stem_tokenizer, stop_words = stop_words, min_df = MIN_DF)),\n",
    "                     ('tfidf', TfidfTransformer()),\n",
    "                     ('reduce_dim', NMF(n_components = 50, init = 'random', random_state = 0)),\n",
    "                     ('clf', CLF)])\n",
    "    return pipe\n",
    "\n",
    "\n",
    "def plot_roc(fpr, tpr):\n",
    "    fig, ax = plt.subplots()\n",
    "\n",
    "    roc_auc = auc(fpr,tpr)\n",
    "    \n",
    "    ax.plot(fpr, tpr, lw=2, label= 'area under curve = %0.4f' % roc_auc)\n",
    "\n",
    "    ax.grid(color='0.6', linestyle='--', linewidth=1)\n",
    "\n",
    "    ax.set_xlim([-0.1, 1.1])\n",
    "    ax.set_ylim([0.0, 1.05])\n",
    "    ax.set_xlabel('False Positive Rate',fontsize=15)\n",
    "    ax.set_ylabel('True Positive Rate',fontsize=15)\n",
    "    ax.set_title('ROC Curve')\n",
    "\n",
    "    ax.legend(loc=\"lower right\")\n",
    "\n",
    "    for label in ax.get_xticklabels()+ax.get_yticklabels():\n",
    "        label.set_fontsize(15)\n",
    "\n",
    "    plt.show()\n",
    "\n",
    "    \n",
    "def plot_confusion_matrix(cm, classes, normalize = False, title = 'Confusion matrix', cmap = plt.cm.Blues):\n",
    "    \n",
    "    if normalize:\n",
    "        cm = cm.astype('float')/cm.sum(axis=1)[:, np.newaxis]\n",
    "        print(\"Normalized Confusion Matrix\")\n",
    "    else:\n",
    "        print('Confusion Matrix without Normalization')\n",
    "    print(cm)\n",
    "    \n",
    "    plt.imshow(cm, interpolation='nearest', cmap=cmap)\n",
    "    plt.title(title)\n",
    "    plt.colorbar()\n",
    "    tick_marks = np.arange(len(classes))\n",
    "    plt.xticks(tick_marks, classes)\n",
    "    plt.yticks(tick_marks, classes)\n",
    "    \n",
    "    \n",
    "    thresh = cm.max() / 2.\n",
    "    for i, j in itertools.product(range(cm.shape[0]), range(cm.shape[1])):\n",
    "        plt.text(j, i, '%.2f' % cm[i, j], horizontalalignment = 'center', color = 'white' if cm[i,j]>thresh else 'black')\n",
    "        \n",
    "    plt.tight_layout()\n",
    "    plt.ylabel('True label')\n",
    "    plt.xlabel('Predicted label')\n",
    "    \n",
    "def compute_and_plot_confusion_matrix(test_label, test_predicted):\n",
    "    cnf_matrix = confusion_matrix(test_label, test_predicted)\n",
    "    np.set_printoptions(precision = 2)\n",
    "    plt.figure()\n",
    "    plot_confusion_matrix(cnf_matrix, classes = bclasses, title = 'Confusion Matrix without Normalization')\n",
    "    plt.figure()\n",
    "    plot_confusion_matrix(cnf_matrix, classes = bclasses, normalize = True, title = 'Normalized Confusion Matrix')\n",
    "    plt.show()"
   ]
  },
  {
   "cell_type": "code",
   "execution_count": 13,
   "metadata": {},
   "outputs": [
    {
     "name": "stderr",
     "output_type": "stream",
     "text": [
      "C:\\Users\\nobod\\Anaconda3\\lib\\site-packages\\sklearn\\feature_extraction\\text.py:300: UserWarning: Your stop_words may be inconsistent with your preprocessing. Tokenizing the stop words generated tokens ['abov', 'afterward', 'alon', 'alreadi', 'alway', 'ani', 'anoth', 'anyon', 'anyth', 'anywher', 'becam', 'becaus', 'becom', 'befor', 'besid', 'cri', 'describ', 'dure', 'els', 'elsewher', 'empti', 'everi', 'everyon', 'everyth', 'everywher', 'fifti', 'forti', 'henc', 'hereaft', 'herebi', 'howev', 'hundr', 'inde', 'mani', 'meanwhil', 'moreov', 'nobodi', 'noon', 'noth', 'nowher', 'onc', 'onli', 'otherwis', 'ourselv', 'perhap', 'pleas', 'sever', 'sinc', 'sincer', 'sixti', 'someon', 'someth', 'sometim', 'somewher', 'themselv', 'thenc', 'thereaft', 'therebi', 'therefor', 'togeth', 'twelv', 'twenti', 'veri', 'whatev', 'whenc', 'whenev', 'wherea', 'whereaft', 'wherebi', 'wherev', 'whi', 'yourselv'] not in stop_words.\n",
      "  'stop_words.' % sorted(inconsistent))\n"
     ]
    }
   ],
   "source": [
    "vectorizer = CountVectorizer(analyzer = 'word', tokenizer = stem_tokenizer, stop_words = stop_words, min_df = 2)\n",
    "tfidf_transformer = TfidfTransformer()\n",
    "\n",
    "svd = TruncatedSVD(n_components=50, algorithm='arpack')\n",
    "nmf = NMF(n_components=50, init='random', random_state=0)\n",
    "normalizer = Normalizer(norm = 'l2', copy=False)\n",
    "\n",
    "bclasses = ['Massachusetts','Washington']\n",
    "\n",
    "X_train, X_test, y_train, y_test = train_test_split(texts, locations, train_size=0.9, random_state=42)\n",
    "pipe = Pipeline([('vect', vectorizer),\n",
    "                 ('tfidf', tfidf_transformer),\n",
    "                 ('svd', svd),\n",
    "                 ('norm', normalizer)])\n",
    "\n",
    "train_svd_data = pipe.fit_transform(X_train)\n",
    "test_svd_data = pipe.fit_transform(X_test)"
   ]
  },
  {
   "cell_type": "markdown",
   "metadata": {},
   "source": [
    "## Linear SVM Classifier"
   ]
  },
  {
   "cell_type": "code",
   "execution_count": null,
   "metadata": {},
   "outputs": [],
   "source": [
    "svm = SVC(kernel='linear', probability=True, C=1000)\n",
    "svm.fit(train_svd_data, y_train)\n",
    "\n",
    "test_score = svm.predict_proba(test_svd_data)\n",
    "test_predict = svm.predict(test_svd_data)\n",
    "\n",
    "fpr, tpr, threshold = roc_curve(y_test, test_score[:,1])\n",
    "\n",
    "plot_roc(fpr, tpr)\n",
    "compute_and_plot_confusion_matrix(y_test, test_predict)\n",
    "\n",
    "accuracy = accuracy_score(y_test, test_predict)\n",
    "print('Accuracy:',accuracy)\n",
    "\n",
    "recall = recall_score(y_test, test_predict)\n",
    "print('Recall:',recall)\n",
    "\n",
    "precision = precision_score(y_test, test_predict)\n",
    "print('Precision:',precision)\n"
   ]
  },
  {
   "cell_type": "markdown",
   "metadata": {},
   "source": [
    "## Help function: Calculate model and plots"
   ]
  },
  {
   "cell_type": "code",
   "execution_count": 45,
   "metadata": {},
   "outputs": [],
   "source": [
    "def report_model(pipe):\n",
    "    X = np.array(texts)\n",
    "    y = np.array(locations)\n",
    "\n",
    "    vect_2 = CountVectorizer(analyzer = 'word', tokenizer = stem_tokenizer, stop_words = stop_words, min_df = 2)\n",
    "    tfidf_transformer = TfidfTransformer()\n",
    "\n",
    "    bclasses = ['Massachusetts','Washington']\n",
    "\n",
    "    accuracies = list()\n",
    "    recalls = list()\n",
    "    precisions = list()\n",
    "\n",
    "    kf = KFold(n_splits=10)\n",
    "    for train_index, test_index in kf.split(texts):\n",
    "        X_train, X_test = X[train_index], X[test_index]\n",
    "        y_train, y_test = y[train_index], y[test_index]\n",
    "\n",
    "        X_train = list(X_train)\n",
    "        y_train = list(y_train)\n",
    "        X_test = list(X_test)\n",
    "        y_test = list(y_test)\n",
    "\n",
    "        pipe.fit(X_train, y_train)\n",
    "\n",
    "        test_score = pipe.predict_proba(X_test)\n",
    "\n",
    "        test_predict = pipe.predict(X_test)\n",
    "\n",
    "        fpr, tpr, threshold = roc_curve(y_test, test_score[:,1])\n",
    "\n",
    "        plot_roc(fpr, tpr)\n",
    "        compute_and_plot_confusion_matrix(y_test, test_predict)\n",
    "\n",
    "        accuracy = accuracy_score(y_test, test_predict)\n",
    "        accuracies.append(accuracy)\n",
    "        print('Accuracy:',accuracy)\n",
    "\n",
    "        recall = recall_score(y_test, test_predict)\n",
    "        recalls.append(recall)\n",
    "        print('Recall:',recall)\n",
    "\n",
    "        precision = precision_score(y_test, test_predict)\n",
    "        precisions.append(precision)\n",
    "        print('Precision:',precision)\n",
    "\n",
    "        print('-'*40)\n",
    "\n",
    "    print('The average accuracy is %.4f'%(sum(accuracies)/len(accuracies)))\n",
    "    print('The average recall is %.4f'%(sum(recalls)/len(recalls)))\n",
    "    print('The average precision is %.4f'%(sum(precisions)/len(precisions)))"
   ]
  },
  {
   "cell_type": "markdown",
   "metadata": {},
   "source": [
    "## MultinomialNB"
   ]
  },
  {
   "cell_type": "code",
   "execution_count": null,
   "metadata": {},
   "outputs": [
    {
     "name": "stderr",
     "output_type": "stream",
     "text": [
      "C:\\Users\\nobod\\Anaconda3\\lib\\site-packages\\sklearn\\feature_extraction\\text.py:300: UserWarning: Your stop_words may be inconsistent with your preprocessing. Tokenizing the stop words generated tokens ['abov', 'afterward', 'alon', 'alreadi', 'alway', 'ani', 'anoth', 'anyon', 'anyth', 'anywher', 'becam', 'becaus', 'becom', 'befor', 'besid', 'cri', 'describ', 'dure', 'els', 'elsewher', 'empti', 'everi', 'everyon', 'everyth', 'everywher', 'fifti', 'forti', 'henc', 'hereaft', 'herebi', 'howev', 'hundr', 'inde', 'mani', 'meanwhil', 'moreov', 'nobodi', 'noon', 'noth', 'nowher', 'onc', 'onli', 'otherwis', 'ourselv', 'perhap', 'pleas', 'sever', 'sinc', 'sincer', 'sixti', 'someon', 'someth', 'sometim', 'somewher', 'themselv', 'thenc', 'thereaft', 'therebi', 'therefor', 'togeth', 'twelv', 'twenti', 'veri', 'whatev', 'whenc', 'whenev', 'wherea', 'whereaft', 'wherebi', 'wherev', 'whi', 'yourselv'] not in stop_words.\n",
      "  'stop_words.' % sorted(inconsistent))\n"
     ]
    },
    {
     "data": {
      "image/png": "[encoded data removed]",
      "text/plain": [
       "<Figure size 432x288 with 1 Axes>"
      ]
     },
     "metadata": {
      "needs_background": "light"
     },
     "output_type": "display_data"
    },
    {
     "name": "stdout",
     "output_type": "stream",
     "text": [
      "Confusion Matrix without Normalization\n",
      "[[ 191 1433]\n",
      " [  12 3900]]\n",
      "Normalized Confusion Matrix\n",
      "[[0.12 0.88]\n",
      " [0.   1.  ]]\n"
     ]
    },
    {
     "data": {
      "image/png": "[encoded data removed]",
      "text/plain": [
       "<Figure size 432x288 with 2 Axes>"
      ]
     },
     "metadata": {
      "needs_background": "light"
     },
     "output_type": "display_data"
    },
    {
     "data": {
      "image/png": "[encoded data removed]",
      "text/plain": [
       "<Figure size 432x288 with 2 Axes>"
      ]
     },
     "metadata": {
      "needs_background": "light"
     },
     "output_type": "display_data"
    },
    {
     "name": "stdout",
     "output_type": "stream",
     "text": [
      "Accuracy: 0.7389812138728323\n",
      "Recall: 0.9969325153374233\n",
      "Precision: 0.7312957059816239\n",
      "------------------------------\n"
     ]
    }
   ],
   "source": [
    "pipe = produce_pipeline(2, MultinomialNB())\n",
    "report_model(pipe)"
   ]
  },
  {
   "cell_type": "markdown",
   "metadata": {},
   "source": [
    "## GaussianNB"
   ]
  },
  {
   "cell_type": "code",
   "execution_count": null,
   "metadata": {},
   "outputs": [],
   "source": [
    "X = np.array(texts)\n",
    "y = np.array(locations)\n",
    "\n",
    "vect_2 = CountVectorizer(analyzer = 'word', tokenizer = stem_tokenizer, stop_words = stop_words, min_df = 2)\n",
    "tfidf_transformer = TfidfTransformer()\n",
    "\n",
    "pipe = produce_pipeline(2, GaussianNB())\n",
    "\n",
    "bclasses = ['Massachusetts','Washington']\n",
    "\n",
    "accuracies = list()\n",
    "recalls = list()\n",
    "precisions = list()\n",
    "\n",
    "kf = KFold(n_splits=10)\n",
    "for train_index, test_index in kf.split(texts):\n",
    "    X_train, X_test = X[train_index], X[test_index]\n",
    "    y_train, y_test = y[train_index], y[test_index]\n",
    "    \n",
    "    X_train = list(X_train)\n",
    "    y_train = list(y_train)\n",
    "    X_test = list(X_test)\n",
    "    y_test = list(y_test)\n",
    "    \n",
    "    pipe.fit(X_train, y_train)\n",
    "    \n",
    "    test_score = pipe.predict_proba(X_test)\n",
    "    \n",
    "    test_predict = pipe.predict(X_test)\n",
    "    \n",
    "    fpr, tpr, threshold = roc_curve(y_test, test_score[:,1])\n",
    "    \n",
    "    plot_roc(fpr, tpr)\n",
    "    compute_and_plot_confusion_matrix(y_test, test_predict)\n",
    "    \n",
    "    accuracy = accuracy_score(y_test, test_predict)\n",
    "    accuracies.append(accuracy)\n",
    "    print('Accuracy:',accuracy)\n",
    "    \n",
    "    recall = recall_score(y_test, test_predict)\n",
    "    recalls.append(recall)\n",
    "    print('Recall:',recall)\n",
    "    \n",
    "    precision = precision_score(y_test, test_predict)\n",
    "    precisions.append(precision)\n",
    "    print('Precision:',precision)\n",
    "    \n",
    "    print('-'*30)\n",
    "\n",
    "print('The average accuracy is %.4f'%(sum(accuracies)/len(accuracies)))\n",
    "print('The average recall is %.4f'%(sum(recalls)/len(recalls)))\n",
    "print('The average precision is %.4f'%(sum(precisions)/len(precisions)))"
   ]
  },
  {
   "cell_type": "markdown",
   "metadata": {},
   "source": [
    "## Logistic Regression"
   ]
  },
  {
   "cell_type": "code",
   "execution_count": null,
   "metadata": {},
   "outputs": [],
   "source": [
    "X = np.array(texts)\n",
    "y = np.array(locations)\n",
    "\n",
    "vect_2 = CountVectorizer(analyzer = 'word', tokenizer = stem_tokenizer, stop_words = stop_words, min_df = 2)\n",
    "tfidf_transformer = TfidfTransformer()\n",
    "\n",
    "pipe = produce_pipeline(2, LogisticRegression())\n",
    "\n",
    "bclasses = ['Massachusetts','Washington']\n",
    "\n",
    "accuracies = list()\n",
    "recalls = list()\n",
    "precisions = list()\n",
    "\n",
    "kf = KFold(n_splits=10)\n",
    "for train_index, test_index in kf.split(texts):\n",
    "    X_train, X_test = X[train_index], X[test_index]\n",
    "    y_train, y_test = y[train_index], y[test_index]\n",
    "    \n",
    "    X_train = list(X_train)\n",
    "    y_train = list(y_train)\n",
    "    X_test = list(X_test)\n",
    "    y_test = list(y_test)\n",
    "    \n",
    "    pipe.fit(X_train, y_train)\n",
    "    \n",
    "    test_score = pipe.decision_function(X_test)\n",
    "    \n",
    "    test_predict = pipe.predict(X_test)\n",
    "    \n",
    "    fpr, tpr, threshold = roc_curve(y_test, test_score)\n",
    "    \n",
    "    plot_roc(fpr, tpr)\n",
    "    compute_and_plot_confusion_matrix(y_test, test_predict)\n",
    "    \n",
    "    accuracy = accuracy_score(y_test, test_predict)\n",
    "    accuracies.append(accuracy)\n",
    "    print('Accuracy:',accuracy)\n",
    "    \n",
    "    recall = recall_score(y_test, test_predict)\n",
    "    recalls.append(recall)\n",
    "    print('Recall:',recall)\n",
    "    \n",
    "    precision = precision_score(y_test, test_predict)\n",
    "    precisions.append(precision)\n",
    "    print('Precision:',precision)\n",
    "    \n",
    "    print('-'*30)\n",
    "\n",
    "print('The average accuracy is %.4f'%(sum(accuracies)/len(accuracies)))\n",
    "print('The average recall is %.4f'%(sum(recalls)/len(recalls)))\n",
    "print('The average precision is %.4f'%(sum(precisions)/len(precisions)))"
   ]
  }
 ],
 "metadata": {
  "kernelspec": {
   "display_name": "Python 3",
   "language": "python",
   "name": "python3"
  },
  "language_info": {
   "codemirror_mode": {
    "name": "ipython",
    "version": 3
   },
   "file_extension": ".py",
   "mimetype": "text/x-python",
   "name": "python",
   "nbconvert_exporter": "python",
   "pygments_lexer": "ipython3",
   "version": "3.7.1"
  }
 },
 "nbformat": 4,
 "nbformat_minor": 2
}
